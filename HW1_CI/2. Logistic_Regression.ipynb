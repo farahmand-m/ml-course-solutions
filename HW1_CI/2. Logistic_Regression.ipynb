{
  "nbformat": 4,
  "nbformat_minor": 0,
  "metadata": {
    "kernelspec": {
      "display_name": "Python 3",
      "language": "python",
      "name": "python3"
    },
    "language_info": {
      "codemirror_mode": {
        "name": "ipython",
        "version": 3
      },
      "file_extension": ".py",
      "mimetype": "text/x-python",
      "name": "python",
      "nbconvert_exporter": "python",
      "pygments_lexer": "ipython3",
      "version": "3.6.7"
    },
    "colab": {
      "name": "2. Logistic_Regression.ipynb",
      "provenance": []
    }
  },
  "cells": [
    {
      "cell_type": "markdown",
      "metadata": {
        "id": "kQ9duliYxfOU",
        "colab_type": "text"
      },
      "source": [
        "# <center> Computational Intelligence Course </center>\n",
        "# <center> Homework 1.2: Logistic Regression</center>"
      ]
    },
    {
      "cell_type": "markdown",
      "metadata": {
        "id": "ZeZW_xxixfOX",
        "colab_type": "text"
      },
      "source": [
        "In this exercise, you will implement logistic regression and apply it to two different datasets. <br>\n",
        "All the information you need for solving this assignment is in this notebook, and all the code you will be implementing will take place within this notebook."
      ]
    },
    {
      "cell_type": "markdown",
      "metadata": {
        "id": "Khw8nTMTxfOY",
        "colab_type": "text"
      },
      "source": [
        "Before we begin with the exercises, we need to import all libraries required for this programming exercise."
      ]
    },
    {
      "cell_type": "markdown",
      "metadata": {
        "id": "pRzLumNixfOa",
        "colab_type": "text"
      },
      "source": [
        "### 1.1. Import Libraries"
      ]
    },
    {
      "cell_type": "code",
      "metadata": {
        "id": "8jySE0NyxfOb",
        "colab_type": "code",
        "colab": {}
      },
      "source": [
        "import numpy as np\n",
        "import pandas as pd\n",
        "import matplotlib.pyplot as plt"
      ],
      "execution_count": 0,
      "outputs": []
    },
    {
      "cell_type": "markdown",
      "metadata": {
        "id": "Q-mgcJUexfOl",
        "colab_type": "text"
      },
      "source": [
        "## Part 1: Logistic Regression\n",
        "In this part of the exercise, you will build a logistic regression model to predict whether a student gets admitted into a university. Suppose that you are the administrator of a university department and you want to determine each applicant’s chance of admission based on their results on two exams. You have historical data from previous applicants that you can use as a training set for logistic regression. For each training example, you have the applicant’s scores on two exams and the admissions decision. Your task is to build a classification model that estimates an applicant’s probability of admission based the scores from those two exams."
      ]
    },
    {
      "cell_type": "markdown",
      "metadata": {
        "id": "s5Qbkd6LxfOm",
        "colab_type": "text"
      },
      "source": [
        "### 1.2. Loading the Data\n",
        "The following cell will load the data and corresponding labels:"
      ]
    },
    {
      "cell_type": "code",
      "metadata": {
        "id": "a0zE1flZxfOo",
        "colab_type": "code",
        "colab": {
          "base_uri": "https://localhost:8080/",
          "height": 204
        },
        "outputId": "80d22bfe-a846-4c62-c601-09ced1267c0c"
      },
      "source": [
        "df = pd.read_csv(\"ex2data1.txt\", header=None)\n",
        "X = df.iloc[:,:-1].values\n",
        "y = df.iloc[:,-1].values\n",
        "df.head()"
      ],
      "execution_count": 2,
      "outputs": [
        {
          "output_type": "execute_result",
          "data": {
            "text/html": [
              "<div>\n",
              "<style scoped>\n",
              "    .dataframe tbody tr th:only-of-type {\n",
              "        vertical-align: middle;\n",
              "    }\n",
              "\n",
              "    .dataframe tbody tr th {\n",
              "        vertical-align: top;\n",
              "    }\n",
              "\n",
              "    .dataframe thead th {\n",
              "        text-align: right;\n",
              "    }\n",
              "</style>\n",
              "<table border=\"1\" class=\"dataframe\">\n",
              "  <thead>\n",
              "    <tr style=\"text-align: right;\">\n",
              "      <th></th>\n",
              "      <th>0</th>\n",
              "      <th>1</th>\n",
              "      <th>2</th>\n",
              "    </tr>\n",
              "  </thead>\n",
              "  <tbody>\n",
              "    <tr>\n",
              "      <th>0</th>\n",
              "      <td>34.623660</td>\n",
              "      <td>78.024693</td>\n",
              "      <td>0</td>\n",
              "    </tr>\n",
              "    <tr>\n",
              "      <th>1</th>\n",
              "      <td>30.286711</td>\n",
              "      <td>43.894998</td>\n",
              "      <td>0</td>\n",
              "    </tr>\n",
              "    <tr>\n",
              "      <th>2</th>\n",
              "      <td>35.847409</td>\n",
              "      <td>72.902198</td>\n",
              "      <td>0</td>\n",
              "    </tr>\n",
              "    <tr>\n",
              "      <th>3</th>\n",
              "      <td>60.182599</td>\n",
              "      <td>86.308552</td>\n",
              "      <td>1</td>\n",
              "    </tr>\n",
              "    <tr>\n",
              "      <th>4</th>\n",
              "      <td>79.032736</td>\n",
              "      <td>75.344376</td>\n",
              "      <td>1</td>\n",
              "    </tr>\n",
              "  </tbody>\n",
              "</table>\n",
              "</div>"
            ],
            "text/plain": [
              "           0          1  2\n",
              "0  34.623660  78.024693  0\n",
              "1  30.286711  43.894998  0\n",
              "2  35.847409  72.902198  0\n",
              "3  60.182599  86.308552  1\n",
              "4  79.032736  75.344376  1"
            ]
          },
          "metadata": {
            "tags": []
          },
          "execution_count": 2
        }
      ]
    },
    {
      "cell_type": "markdown",
      "metadata": {
        "id": "6ZfbLV09xfOu",
        "colab_type": "text"
      },
      "source": [
        "### 1.3. Plotting the Data\n",
        "We start the exercise by first plotting the data to understand the the problem we are working with.<br>\n",
        "Plotting data with red '+' indicating (y = 1) examples and blue 'o' indicating (y = 0) examples."
      ]
    },
    {
      "cell_type": "code",
      "metadata": {
        "id": "7eOZ-df3xfOx",
        "colab_type": "code",
        "colab": {
          "base_uri": "https://localhost:8080/",
          "height": 296
        },
        "outputId": "d5ba9141-2f27-4417-e3f0-970494c714b8"
      },
      "source": [
        "pos , neg = (y==1).reshape(100,1) , (y==0).reshape(100,1)\n",
        "plt.scatter(X[pos[:,0],0],X[pos[:,0],1],c=\"r\",marker=\"+\")\n",
        "plt.scatter(X[neg[:,0],0],X[neg[:,0],1],marker=\"o\",s=10)\n",
        "plt.xlabel(\"Exam 1 score\")\n",
        "plt.ylabel(\"Exam 2 score\")\n",
        "plt.legend([\"Admitted\",\"Not admitted\"],loc=0)"
      ],
      "execution_count": 3,
      "outputs": [
        {
          "output_type": "execute_result",
          "data": {
            "text/plain": [
              "<matplotlib.legend.Legend at 0x7f91f5278ba8>"
            ]
          },
          "metadata": {
            "tags": []
          },
          "execution_count": 3
        },
        {
          "output_type": "display_data",
          "data": {
            "image/png": "[encoded data removed]",
            "text/plain": [
              "<Figure size 432x288 with 1 Axes>"
            ]
          },
          "metadata": {
            "tags": []
          }
        }
      ]
    },
    {
      "cell_type": "markdown",
      "metadata": {
        "id": "K_jpD8E9xfO3",
        "colab_type": "text"
      },
      "source": [
        "### 1.4. Compute the Cost Function and Gradient\n",
        "\n",
        "In this part of the exercise, you will implement the cost and gradient for logistic regression. You neeed to complete the codes.\n",
        "\n",
        "First of all, you should implement sigmoid function:\n",
        "\n",
        "$$ g(z) = \\frac{1}{(1+e^{-z})}$$\n",
        "and then, complete the cost function and derivatives:\n",
        "$$J(\\Theta) = \\frac{1}{m} \\sum_{i=1}^{m} [ -y^{(i)}log(h_{\\Theta}(x^{(i)})) - (1 - y^{(i)})log(1 - (h_{\\Theta}(x^{(i)}))]$$\n",
        "\n",
        "$$ \\frac{\\partial J(\\Theta)}{\\partial \\Theta_j} = \\frac{1}{m} \\sum_{i=1}^{m} (h_{\\Theta}(x^{(i)}) - y^{(i)})x_j^{(i)}$$\n",
        "\n",
        "Note that while this gradient looks identical to the linear regression gradient, the formula is actually different because linear and logistic regression have different definitions of $h_\\Theta(x)$."
      ]
    },
    {
      "cell_type": "code",
      "metadata": {
        "id": "-2c7iOELxfO4",
        "colab_type": "code",
        "colab": {}
      },
      "source": [
        "def sigmoid(z):\n",
        "    \"\"\"\n",
        "    return the sigmoid of z\n",
        "    \"\"\"\n",
        "    g = np.zeros(z.shape)\n",
        "    \n",
        "    # ====================== YOUR CODE HERE ======================\n",
        "\n",
        "    g = 1 / (1 + np.exp(-z))\n",
        "\n",
        "    # ============================================================\n",
        "    \n",
        "    return g"
      ],
      "execution_count": 0,
      "outputs": []
    },
    {
      "cell_type": "code",
      "metadata": {
        "id": "mi7Iy3JDxfO9",
        "colab_type": "code",
        "colab": {}
      },
      "source": [
        "def costFunction(theta, X, y):\n",
        "    \"\"\"\n",
        "    Takes in numpy array theta, x and y and return the logistic regression cost function and gradient\n",
        "    \"\"\"\n",
        "    \n",
        "    m = len(y)\n",
        "    \n",
        "    J = 0\n",
        "    grad = np.zeros(theta.shape)\n",
        "    \n",
        "    # ====================== YOUR CODE HERE ======================\n",
        "\n",
        "    h = np.dot(X, theta)\n",
        "    h = sigmoid(h)\n",
        "    \n",
        "    epsilon = 1e-8\n",
        "    J = -np.sum(np.multiply(y, np.log(h + epsilon)) + np.multiply(1 - y, np.log(1 - h + epsilon))) / m\n",
        "    grad = np.sum(np.multiply(h - y, X), axis=0).reshape(theta.shape) / m\n",
        "\n",
        "    # ============================================================\n",
        "    \n",
        "    return J , grad"
      ],
      "execution_count": 0,
      "outputs": []
    },
    {
      "cell_type": "code",
      "metadata": {
        "id": "K4WyvDOOxfPD",
        "colab_type": "code",
        "colab": {}
      },
      "source": [
        "# For this function, you can use your codes in linear regression\n",
        "def featureNormalization(X):\n",
        "    \"\"\"\n",
        "    Take in numpy array of X values and return normalize X values,\n",
        "    the mean and standard deviation of each feature\n",
        "    \"\"\"\n",
        "    # ====================== YOUR CODE HERE ======================\n",
        "\n",
        "    mean = np.mean(X, axis=0)\n",
        "    std = np.std(X, axis=0)\n",
        "\n",
        "    X_norm = (X - mean) / std\n",
        "\n",
        "    # ============================================================\n",
        "    \n",
        "    return X_norm , mean , std"
      ],
      "execution_count": 0,
      "outputs": []
    },
    {
      "cell_type": "code",
      "metadata": {
        "id": "uoVFgrpaxfPI",
        "colab_type": "code",
        "colab": {
          "base_uri": "https://localhost:8080/",
          "height": 85
        },
        "outputId": "08f671ef-1207-4ec1-c412-68f62cd230b0"
      },
      "source": [
        "# Compute and display initial cost and gradient\n",
        "m , n = X.shape[0], X.shape[1]\n",
        "X_norm, X_mean, X_std = featureNormalization(X)\n",
        "X_norm = np.append(np.ones((m,1)),X_norm,axis=1)\n",
        "y = y.reshape(m,1)\n",
        "initial_theta = np.zeros((n+1,1))\n",
        "cost, grad = costFunction(initial_theta,X_norm,y)\n",
        "\n",
        "print(\"Cost at initial theta (zeros): \", cost)\n",
        "print(\"Gradient at initial theta (zeros): \", grad)"
      ],
      "execution_count": 7,
      "outputs": [
        {
          "output_type": "stream",
          "text": [
            "Cost at initial theta (zeros):  0.6931471605599454\n",
            "Gradient at initial theta (zeros):  [[-0.1       ]\n",
            " [-0.28122914]\n",
            " [-0.25098615]]\n"
          ],
          "name": "stdout"
        }
      ]
    },
    {
      "cell_type": "markdown",
      "metadata": {
        "id": "2QMW1KR-xfPM",
        "colab_type": "text"
      },
      "source": [
        "**Expected Output**: \n",
        "\n",
        "<table style=\"width:20%\">\n",
        "  <tr>\n",
        "    <td>**cost**</td>\n",
        "    <td> 0.693</td> \n",
        "  </tr>\n",
        "  <tr>\n",
        "    <td>**grad**</td>\n",
        "    <td> [[-0.1000], [-0.2812], [-0.2509]]</td> \n",
        "  </tr>\n",
        "</table>"
      ]
    },
    {
      "cell_type": "markdown",
      "metadata": {
        "id": "iFoBkMUuxfPN",
        "colab_type": "text"
      },
      "source": [
        "### 1.5. Gradient Descent\n",
        "\n",
        "Now, you will use gradient descent method to find the optimal parameters theta."
      ]
    },
    {
      "cell_type": "code",
      "metadata": {
        "id": "GXP25JGHxfPO",
        "colab_type": "code",
        "colab": {}
      },
      "source": [
        "def gradientDescent(X, y, theta, alpha, num_iters):\n",
        "    \"\"\"\n",
        "    Take in numpy array X, y and theta and update theta by taking num_iters gradient steps\n",
        "    with learning rate of alpha\n",
        "    \n",
        "    return theta and the list of the cost of theta during each iteration\n",
        "    \"\"\"\n",
        "    \n",
        "    m = len(y)\n",
        "    J_history = []\n",
        "        \n",
        "    for i in range(num_iters):\n",
        "\n",
        "        # ====================== YOUR CODE HERE ======================\n",
        "\n",
        "        J, grad = costFunction(theta, X, y)\n",
        "        J_history.append(J)\n",
        "\n",
        "        theta = theta - alpha * grad\n",
        "\n",
        "        # ============================================================\n",
        "    \n",
        "    return theta , J_history"
      ],
      "execution_count": 0,
      "outputs": []
    },
    {
      "cell_type": "code",
      "metadata": {
        "id": "Ikli32ngxfPU",
        "colab_type": "code",
        "colab": {}
      },
      "source": [
        "theta , J_history = gradientDescent(X_norm, y, initial_theta, 1, 400)"
      ],
      "execution_count": 0,
      "outputs": []
    },
    {
      "cell_type": "code",
      "metadata": {
        "id": "YoXUmcijxfPb",
        "colab_type": "code",
        "colab": {
          "base_uri": "https://localhost:8080/",
          "height": 85
        },
        "outputId": "5497e370-371e-4615-b1b2-2b2223df2109"
      },
      "source": [
        "print(\"Cost at theta found by gradient descent: \", J_history[-1])\n",
        "print(\"Theta optimized by gradient descent: \",theta)"
      ],
      "execution_count": 10,
      "outputs": [
        {
          "output_type": "stream",
          "text": [
            "Cost at theta found by gradient descent:  0.2036004282267524\n",
            "Theta optimized by gradient descent:  [[1.65947664]\n",
            " [3.8670477 ]\n",
            " [3.60347302]]\n"
          ],
          "name": "stdout"
        }
      ]
    },
    {
      "cell_type": "markdown",
      "metadata": {
        "id": "Tftbu5aaxfPl",
        "colab_type": "text"
      },
      "source": [
        "**Expected Output**: \n",
        "\n",
        "<table style=\"width:20%\">\n",
        "  <tr>\n",
        "    <td>**cost**</td>\n",
        "    <td> 0.203</td> \n",
        "  </tr>\n",
        "  <tr>\n",
        "    <td>**theta**</td>\n",
        "    <td> [[1.65948], [3.8670], [3.6035]]</td> \n",
        "  </tr>\n",
        "</table>"
      ]
    },
    {
      "cell_type": "markdown",
      "metadata": {
        "id": "yij3_P8FxfPm",
        "colab_type": "text"
      },
      "source": [
        "### 1.6. Plotting the decision boundary\n",
        "\n",
        "From Machine Learning Resources:\n",
        "    \n",
        "$h_\\Theta(x) = g(z)$, where g is the sigmoid function and $z = \\Theta^Tx$\n",
        "\n",
        "Since $h_\\Theta(x) \\geq 0.5$ is interpreted as predicting class \"1\", $g(\\Theta^Tx) \\geq 0.5$ or $\\Theta^Tx \\geq 0$ predict class \"1\" \n",
        "\n",
        "$\\Theta_1 + \\Theta_2x_2 + \\Theta_3x_3 = 0$ is the decision boundary   \n",
        "\n",
        "Since, we plot $x_2$ against $x_3$, the boundary line will be the equation $ x_3 = \\frac{-(\\Theta_1+\\Theta_2x_2)}{\\Theta_3}$"
      ]
    },
    {
      "cell_type": "code",
      "metadata": {
        "id": "48pyHbHpxfPn",
        "colab_type": "code",
        "colab": {
          "base_uri": "https://localhost:8080/",
          "height": 296
        },
        "outputId": "0df047ec-2516-4b01-ce74-4ad2ff7e171a"
      },
      "source": [
        "plt.scatter(X_norm[pos[:,0],1],X_norm[pos[:,0],2],c=\"r\",marker=\"+\",label=\"Admitted\")\n",
        "plt.scatter(X_norm[neg[:,0],1],X_norm[neg[:,0],2],c=\"b\",marker=\"x\",label=\"Not admitted\")\n",
        "x_value= np.array([np.min(X_norm[:,1]),np.max(X_norm[:,1])])\n",
        "y_value=-(theta[0] +theta[1]*x_value)/theta[2]\n",
        "plt.plot(x_value,y_value, \"g\")\n",
        "plt.xlabel(\"Exam 1 score\")\n",
        "plt.ylabel(\"Exam 2 score\")\n",
        "plt.legend(loc=0)"
      ],
      "execution_count": 11,
      "outputs": [
        {
          "output_type": "execute_result",
          "data": {
            "text/plain": [
              "<matplotlib.legend.Legend at 0x7f91f25969b0>"
            ]
          },
          "metadata": {
            "tags": []
          },
          "execution_count": 11
        },
        {
          "output_type": "display_data",
          "data": {
            "image/png": "[encoded data removed]",
            "text/plain": [
              "<Figure size 432x288 with 1 Axes>"
            ]
          },
          "metadata": {
            "tags": []
          }
        }
      ]
    },
    {
      "cell_type": "markdown",
      "metadata": {
        "id": "2BNYoNBwxfPt",
        "colab_type": "text"
      },
      "source": [
        "### 1.7. Prediction & Accuracy\n",
        "After learning the parameters, you'll like to use it to predict the outcomes on unseen data. In this part, you will use the logistic regression model to predict the probability that a student with score 45 on exam 1 and score 85 on exam 2 will be admitted.<br>\n",
        "Furthermore, you will compute the accuracy of our model. Your task is to complete the code in predict function"
      ]
    },
    {
      "cell_type": "code",
      "metadata": {
        "id": "IlW6oswwxfPu",
        "colab_type": "code",
        "colab": {}
      },
      "source": [
        "def predict(theta,X):\n",
        "    \"\"\"\n",
        "    take in numpy array of theta and X and predict the class \n",
        "    \"\"\"\n",
        "    \n",
        "    # ====================== YOUR CODE HERE ======================\n",
        "\n",
        "    h = np.dot(X, theta)\n",
        "    h = sigmoid(h)\n",
        "    predictions = (h >= 0.5).astype('float32')\n",
        "\n",
        "    # ============================================================\n",
        "    \n",
        "    return predictions"
      ],
      "execution_count": 0,
      "outputs": []
    },
    {
      "cell_type": "code",
      "metadata": {
        "id": "F__fB-b4xfPz",
        "colab_type": "code",
        "colab": {
          "base_uri": "https://localhost:8080/",
          "height": 34
        },
        "outputId": "4e6c2bac-99b7-489a-f349-75939adfa162"
      },
      "source": [
        "x_test = np.array([45,85])\n",
        "x_test = (x_test - X_mean)/X_std\n",
        "x_test = np.append(np.ones(1),x_test)\n",
        "prob = sigmoid(x_test.dot(theta))\n",
        "print(\"For a student with scores 45 and 85, we predict an admission probability of\", prob[0])"
      ],
      "execution_count": 13,
      "outputs": [
        {
          "output_type": "stream",
          "text": [
            "For a student with scores 45 and 85, we predict an admission probability of 0.7677628875792492\n"
          ],
          "name": "stdout"
        }
      ]
    },
    {
      "cell_type": "code",
      "metadata": {
        "id": "Q0HK6PKSxfP3",
        "colab_type": "code",
        "colab": {
          "base_uri": "https://localhost:8080/",
          "height": 34
        },
        "outputId": "803b2829-271e-4941-c97e-e280eeebb625"
      },
      "source": [
        "p = predict(theta, X_norm)\n",
        "print(\"Train Accuracy:\", sum(p==y)[0],\"%\")"
      ],
      "execution_count": 14,
      "outputs": [
        {
          "output_type": "stream",
          "text": [
            "Train Accuracy: 89 %\n"
          ],
          "name": "stdout"
        }
      ]
    },
    {
      "cell_type": "markdown",
      "metadata": {
        "id": "QiwouMBDxfP7",
        "colab_type": "text"
      },
      "source": [
        "**Expected Output**: \n",
        "\n",
        "<table style=\"width:20%\">\n",
        "  <tr>\n",
        "    <td>**accuracy**</td>\n",
        "    <td>89.0</td> \n",
        "  </tr>\n",
        "</table>"
      ]
    },
    {
      "cell_type": "markdown",
      "metadata": {
        "id": "BpiPprZpxfP8",
        "colab_type": "text"
      },
      "source": [
        "## Part 2: Regularized Logistic regression\n",
        "In this part of the exercise, you will implement regularized logistic regression to predict whether microchips from a fabrication plant passes quality assurance (QA). During QA, each microchip goes through various tests to ensure it is functioning correctly. Suppose you are the product manager of the factory and you have the test results for some microchips on two different tests. From these two tests, you would like to determine whether the microchips should be accepted or rejected. To help you make the decision, you have a dataset of test results on past microchips, from which you can build a logistic regression model."
      ]
    },
    {
      "cell_type": "markdown",
      "metadata": {
        "id": "NzypUj_jxfP9",
        "colab_type": "text"
      },
      "source": [
        "### 2.1. Loading the Data\n",
        "The first two columns contains the X values and the third column contains the label (y)."
      ]
    },
    {
      "cell_type": "code",
      "metadata": {
        "id": "8zCa8oIcxfP-",
        "colab_type": "code",
        "colab": {
          "base_uri": "https://localhost:8080/",
          "height": 204
        },
        "outputId": "dc1b72c8-c5d8-4ac6-82a1-2bf2e29a30db"
      },
      "source": [
        "df = pd.read_csv(\"ex2data2.txt\", header=None)\n",
        "df.head()"
      ],
      "execution_count": 15,
      "outputs": [
        {
          "output_type": "execute_result",
          "data": {
            "text/html": [
              "<div>\n",
              "<style scoped>\n",
              "    .dataframe tbody tr th:only-of-type {\n",
              "        vertical-align: middle;\n",
              "    }\n",
              "\n",
              "    .dataframe tbody tr th {\n",
              "        vertical-align: top;\n",
              "    }\n",
              "\n",
              "    .dataframe thead th {\n",
              "        text-align: right;\n",
              "    }\n",
              "</style>\n",
              "<table border=\"1\" class=\"dataframe\">\n",
              "  <thead>\n",
              "    <tr style=\"text-align: right;\">\n",
              "      <th></th>\n",
              "      <th>0</th>\n",
              "      <th>1</th>\n",
              "      <th>2</th>\n",
              "    </tr>\n",
              "  </thead>\n",
              "  <tbody>\n",
              "    <tr>\n",
              "      <th>0</th>\n",
              "      <td>0.051267</td>\n",
              "      <td>0.69956</td>\n",
              "      <td>1</td>\n",
              "    </tr>\n",
              "    <tr>\n",
              "      <th>1</th>\n",
              "      <td>-0.092742</td>\n",
              "      <td>0.68494</td>\n",
              "      <td>1</td>\n",
              "    </tr>\n",
              "    <tr>\n",
              "      <th>2</th>\n",
              "      <td>-0.213710</td>\n",
              "      <td>0.69225</td>\n",
              "      <td>1</td>\n",
              "    </tr>\n",
              "    <tr>\n",
              "      <th>3</th>\n",
              "      <td>-0.375000</td>\n",
              "      <td>0.50219</td>\n",
              "      <td>1</td>\n",
              "    </tr>\n",
              "    <tr>\n",
              "      <th>4</th>\n",
              "      <td>-0.513250</td>\n",
              "      <td>0.46564</td>\n",
              "      <td>1</td>\n",
              "    </tr>\n",
              "  </tbody>\n",
              "</table>\n",
              "</div>"
            ],
            "text/plain": [
              "          0        1  2\n",
              "0  0.051267  0.69956  1\n",
              "1 -0.092742  0.68494  1\n",
              "2 -0.213710  0.69225  1\n",
              "3 -0.375000  0.50219  1\n",
              "4 -0.513250  0.46564  1"
            ]
          },
          "metadata": {
            "tags": []
          },
          "execution_count": 15
        }
      ]
    },
    {
      "cell_type": "code",
      "metadata": {
        "id": "gjYJuuMNxfQC",
        "colab_type": "code",
        "colab": {}
      },
      "source": [
        "X = df.iloc[:,:-1].values\n",
        "y = df.iloc[:,-1].values"
      ],
      "execution_count": 0,
      "outputs": []
    },
    {
      "cell_type": "markdown",
      "metadata": {
        "id": "pg8sHFpGxfQH",
        "colab_type": "text"
      },
      "source": [
        "### 2.2. Plotting the Data"
      ]
    },
    {
      "cell_type": "code",
      "metadata": {
        "id": "4z4BDxZYxfQI",
        "colab_type": "code",
        "colab": {
          "base_uri": "https://localhost:8080/",
          "height": 296
        },
        "outputId": "4da36690-b418-4967-804e-e34f6ef3461a"
      },
      "source": [
        "pos , neg = (y==1).reshape(118,1) , (y==0).reshape(118,1)\n",
        "plt.scatter(X[pos[:,0],0],X[pos[:,0],1],c=\"r\",marker=\"+\")\n",
        "plt.scatter(X[neg[:,0],0],X[neg[:,0],1],marker=\"o\",s=10)\n",
        "plt.xlabel(\"Test 1\")\n",
        "plt.ylabel(\"Test 2\")\n",
        "plt.legend([\"Accepted\",\"Rejected\"],loc=0)"
      ],
      "execution_count": 17,
      "outputs": [
        {
          "output_type": "execute_result",
          "data": {
            "text/plain": [
              "<matplotlib.legend.Legend at 0x7f91f2501f98>"
            ]
          },
          "metadata": {
            "tags": []
          },
          "execution_count": 17
        },
        {
          "output_type": "display_data",
          "data": {
            "image/png": "[encoded data removed]",
            "text/plain": [
              "<Figure size 432x288 with 1 Axes>"
            ]
          },
          "metadata": {
            "tags": []
          }
        }
      ]
    },
    {
      "cell_type": "markdown",
      "metadata": {
        "id": "KlIGgrqCxfQM",
        "colab_type": "text"
      },
      "source": [
        "As the above figure shows, you are given a dataset with data points that are not linearly separable. However, you would still like to use logistic regression to classify the data points.\n",
        "To do so, you introduce more features to use -- in particular, you add polynomial features to our data matrix (similar to polynomial regression)."
      ]
    },
    {
      "cell_type": "markdown",
      "metadata": {
        "id": "rzgNbAJIxfQM",
        "colab_type": "text"
      },
      "source": [
        "### 2.3. Add Polynomial Features"
      ]
    },
    {
      "cell_type": "code",
      "metadata": {
        "id": "vOQEszdNxfQN",
        "colab_type": "code",
        "colab": {}
      },
      "source": [
        "def mapFeature(x1,x2,degree):\n",
        "    \"\"\"\n",
        "    take in numpy array of x1 and x2, return all polynomial terms up to the given degree\n",
        "    \"\"\"\n",
        "    out = np.ones(len(x1)).reshape(len(x1),1)\n",
        "    for i in range(1,degree+1):\n",
        "        for j in range(i+1):\n",
        "            terms= (x1**(i-j) * x2**j).reshape(len(x1),1)\n",
        "            out= np.hstack((out,terms))\n",
        "    return out"
      ],
      "execution_count": 0,
      "outputs": []
    },
    {
      "cell_type": "code",
      "metadata": {
        "id": "FlIr6v4YxfQQ",
        "colab_type": "code",
        "colab": {}
      },
      "source": [
        "# Note that mapFeature also adds a column of ones for us, so the intercept term is handled\n",
        "X = mapFeature(X[:,0], X[:,1],6)"
      ],
      "execution_count": 0,
      "outputs": []
    },
    {
      "cell_type": "markdown",
      "metadata": {
        "id": "4bf_dVWBxfQW",
        "colab_type": "text"
      },
      "source": [
        "### 2.4. Computing Regularize Cost Function and Gradient\n",
        "\n",
        "Now you will implement code to compute the cost function and gradient for regularized logistic regression. <br>\n",
        "Recall that the regularized cost function in logistic regression is:\n",
        "$$J(\\Theta) = \\frac{1}{m} \\sum_{i=1}^{m} [ -y^{(i)}log(h_{\\Theta}(x^{(i)})) - (1 - y^{(i)})log(1 - (h_{\\Theta}(x^{(i)}))] + \\frac{\\lambda}{2m} \\sum_{j=1}^n \\Theta_j^2$$\n",
        "\n",
        "Note that you should not regularize the parameters $\\theta_0$. The gradient of the cost function is a vector where the $j^{th}$ element is defined as follows:\n",
        "$$ \\frac{\\partial J(\\Theta)}{\\partial \\Theta_j} = \\frac{1}{m} \\sum_{i=1}^{m} (h_{\\Theta}(x^{(i)}) - y^{(i)})x_j^{(i)} + \\frac{\\lambda}{m}\\Theta_j \\;\\;for\\; j\\geq 1$$"
      ]
    },
    {
      "cell_type": "code",
      "metadata": {
        "id": "jRwtBVlQxfQW",
        "colab_type": "code",
        "colab": {}
      },
      "source": [
        "def costFunctionReg(theta, X, y ,Lambda):\n",
        "    \"\"\"\n",
        "    Take in numpy array of theta, X, and y to return the regularize cost function and gradient\n",
        "    of a logistic regression\n",
        "    \"\"\"\n",
        "    \n",
        "    m = len(y)\n",
        "    \n",
        "    J = 0\n",
        "    grad = np.zeros(theta.shape)\n",
        "    \n",
        "    # ====================== YOUR CODE HERE ======================\n",
        "\n",
        "    h = np.dot(X, theta)\n",
        "    h = sigmoid(h)\n",
        "    \n",
        "    y = np.expand_dims(y, axis=1)\n",
        "    \n",
        "    epsilon = 1e-8\n",
        "    J = -np.sum(np.multiply(y, np.log(h + epsilon)) + np.multiply(1 - y, np.log(1 - h + epsilon))) / m\n",
        "    grad = np.sum(np.multiply(h - y, X), axis=0).reshape(theta.shape) / m\n",
        "\n",
        "    J += (Lambda / (2 * m)) * np.sum(theta[1:] ** 2)\n",
        "    grad[1:] += grad[1:] + (Lambda / m) * theta[1:]\n",
        "\n",
        "    # ============================================================\n",
        "    \n",
        "    return J, grad"
      ],
      "execution_count": 0,
      "outputs": []
    },
    {
      "cell_type": "code",
      "metadata": {
        "id": "THyG7JyzxfQa",
        "colab_type": "code",
        "colab": {}
      },
      "source": [
        "# Initialize fitting parameters\n",
        "initial_theta = np.zeros((X.shape[1], 1))\n",
        "\n",
        "# Set regularization parameter lambda to 1\n",
        "Lambda = 1\n",
        "\n",
        "#Compute and display initial cost and gradient for regularized logistic regression\n",
        "cost, grad = costFunctionReg(initial_theta, X, y, Lambda)"
      ],
      "execution_count": 0,
      "outputs": []
    },
    {
      "cell_type": "code",
      "metadata": {
        "id": "isbOhxNUxfQj",
        "colab_type": "code",
        "colab": {
          "base_uri": "https://localhost:8080/",
          "height": 34
        },
        "outputId": "7b06d290-a02b-4674-80b8-3669d4c32a96"
      },
      "source": [
        "print('Cost at initial theta (zeros): ' , cost)"
      ],
      "execution_count": 35,
      "outputs": [
        {
          "output_type": "stream",
          "text": [
            "Cost at initial theta (zeros):  0.6931471605599454\n"
          ],
          "name": "stdout"
        }
      ]
    },
    {
      "cell_type": "markdown",
      "metadata": {
        "id": "2HetfuaLxfQp",
        "colab_type": "text"
      },
      "source": [
        "**Expected Output**: \n",
        "\n",
        "<table style=\"width:20%\">\n",
        "  <tr>\n",
        "    <td>**cost**</td>\n",
        "    <td> 0.693</td> \n",
        "  </tr>\n",
        "</table>"
      ]
    },
    {
      "cell_type": "markdown",
      "metadata": {
        "id": "TD8S9jHaxfQq",
        "colab_type": "text"
      },
      "source": [
        "### 2.5. Gradient Descent\n",
        "Now, you will use gradient descent to learn the optimal parameters $\\Theta$."
      ]
    },
    {
      "cell_type": "code",
      "metadata": {
        "id": "w8rNYEdExfQr",
        "colab_type": "code",
        "colab": {}
      },
      "source": [
        "def gradientDescent(X, y, theta, alpha, num_iters, Lambda):\n",
        "    \"\"\"\n",
        "    Take in numpy array X, y and theta and update theta by taking num_iters gradient steps\n",
        "    with learning rate of alpha\n",
        "    \n",
        "    return theta and the list of the cost of theta during each iteration\n",
        "    \"\"\"\n",
        "    \n",
        "    m = len(y)\n",
        "    J_history =[]\n",
        "    \n",
        "    for i in range(num_iters):\n",
        "\n",
        "        # ====================== YOUR CODE HERE ======================\n",
        "\n",
        "        J, grad = costFunctionReg(theta, X, y, Lambda)\n",
        "        J_history.append(J)\n",
        "\n",
        "        theta = theta - alpha * grad\n",
        "\n",
        "        # ============================================================\n",
        "    \n",
        "    return theta , J_history"
      ],
      "execution_count": 0,
      "outputs": []
    },
    {
      "cell_type": "code",
      "metadata": {
        "id": "XP3NMn26xfQv",
        "colab_type": "code",
        "colab": {}
      },
      "source": [
        "theta , J_history = gradientDescent(X, y, initial_theta, 1, 800, 0.2)"
      ],
      "execution_count": 0,
      "outputs": []
    },
    {
      "cell_type": "markdown",
      "metadata": {
        "id": "FdaWpaEAxfQy",
        "colab_type": "text"
      },
      "source": [
        "### 2.6. Plot Decision Boundary\n",
        "Now, we plot the (non-linear) decision boundary that separates the positive and negative examples. "
      ]
    },
    {
      "cell_type": "code",
      "metadata": {
        "id": "QRIgdmGzxfQz",
        "colab_type": "code",
        "colab": {}
      },
      "source": [
        "def mapFeaturePlot(x1,x2,degree):\n",
        "    \"\"\"\n",
        "    take in numpy array of x1 and x2, return all polynomial terms up to the given degree\n",
        "    \"\"\"\n",
        "    out = np.ones(1)\n",
        "    for i in range(1,degree+1):\n",
        "        for j in range(i+1):\n",
        "            terms= (x1**(i-j) * x2**j)\n",
        "            out= np.hstack((out,terms))\n",
        "    return out"
      ],
      "execution_count": 0,
      "outputs": []
    },
    {
      "cell_type": "code",
      "metadata": {
        "id": "oa0DdGyPxfQ3",
        "colab_type": "code",
        "colab": {
          "base_uri": "https://localhost:8080/",
          "height": 300
        },
        "outputId": "b667e687-1b17-446a-b79f-11f6191d12ab"
      },
      "source": [
        "plt.scatter(X[pos[:,0],1],X[pos[:,0],2],c=\"r\",marker=\"+\",label=\"Admitted\")\n",
        "plt.scatter(X[neg[:,0],1],X[neg[:,0],2],c=\"b\",marker=\"x\",label=\"Not admitted\")\n",
        "\n",
        "# Plotting decision boundary\n",
        "\n",
        "u_vals = np.linspace(-1,1.5,50)\n",
        "v_vals= np.linspace(-1,1.5,50)\n",
        "z=np.zeros((len(u_vals),len(v_vals)))\n",
        "for i in range(len(u_vals)):\n",
        "    for j in range(len(v_vals)):\n",
        "        z[i,j] =mapFeaturePlot(u_vals[i],v_vals[j],6) @ theta \n",
        "\n",
        "plt.contour(u_vals,v_vals,z.T,0)\n",
        "plt.xlabel(\"Exam 1 score\")\n",
        "plt.ylabel(\"Exam 2 score\")\n",
        "plt.legend(loc=0)"
      ],
      "execution_count": 38,
      "outputs": [
        {
          "output_type": "execute_result",
          "data": {
            "text/plain": [
              "<matplotlib.legend.Legend at 0x7f91f20c2198>"
            ]
          },
          "metadata": {
            "tags": []
          },
          "execution_count": 38
        },
        {
          "output_type": "display_data",
          "data": {
            "image/png": "[encoded data removed]",
            "text/plain": [
              "<Figure size 432x288 with 1 Axes>"
            ]
          },
          "metadata": {
            "tags": []
          }
        }
      ]
    },
    {
      "cell_type": "markdown",
      "metadata": {
        "id": "LFyHTZkLxfQ7",
        "colab_type": "text"
      },
      "source": [
        "### 2.7. Prediction & Accuracy "
      ]
    },
    {
      "cell_type": "code",
      "metadata": {
        "id": "hhvCjmEcxfQ7",
        "colab_type": "code",
        "colab": {}
      },
      "source": [
        "def predict(theta,X):\n",
        "    \"\"\"\n",
        "    take in numpy array of theta and X and predict the class \n",
        "    \"\"\"\n",
        "    \n",
        "    # ====================== YOUR CODE HERE ======================\n",
        "\n",
        "    h = np.dot(X, theta)\n",
        "    h = sigmoid(h)\n",
        "    predictions = (h >= 0.5).astype('float32')\n",
        "\n",
        "    # ============================================================\n",
        "        \n",
        "    return predictions"
      ],
      "execution_count": 0,
      "outputs": []
    },
    {
      "cell_type": "code",
      "metadata": {
        "id": "GEja-qAJxfQ_",
        "colab_type": "code",
        "colab": {
          "base_uri": "https://localhost:8080/",
          "height": 34
        },
        "outputId": "e8ff7124-aabf-4093-d03b-be5bfe1d2435"
      },
      "source": [
        "p = predict(theta,X)\n",
        "print(\"Train Accuracy:\", (sum(p==y[:,np.newaxis])/len(y) *100)[0],\"%\")"
      ],
      "execution_count": 40,
      "outputs": [
        {
          "output_type": "stream",
          "text": [
            "Train Accuracy: 83.05084745762711 %\n"
          ],
          "name": "stdout"
        }
      ]
    },
    {
      "cell_type": "markdown",
      "metadata": {
        "id": "w5tkh_iQxfRC",
        "colab_type": "text"
      },
      "source": [
        "**Expected Output**: \n",
        "\n",
        "<table style=\"width:20%\">\n",
        "  <tr>\n",
        "    <td>**accuracy**</td>\n",
        "    <td>83</td> \n",
        "  </tr>\n",
        "</table>"
      ]
    }
  ]
}