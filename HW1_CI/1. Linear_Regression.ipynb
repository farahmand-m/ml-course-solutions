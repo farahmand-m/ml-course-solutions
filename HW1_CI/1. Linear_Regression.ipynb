{
  "nbformat": 4,
  "nbformat_minor": 0,
  "metadata": {
    "kernelspec": {
      "display_name": "Python 3",
      "language": "python",
      "name": "python3"
    },
    "language_info": {
      "codemirror_mode": {
        "name": "ipython",
        "version": 3
      },
      "file_extension": ".py",
      "mimetype": "text/x-python",
      "name": "python",
      "nbconvert_exporter": "python",
      "pygments_lexer": "ipython3",
      "version": "3.6.7"
    },
    "colab": {
      "name": "1. Linear_Regression.ipynb",
      "provenance": [],
      "toc_visible": true
    }
  },
  "cells": [
    {
      "cell_type": "markdown",
      "metadata": {
        "id": "bAYwjo5rrOMm",
        "colab_type": "text"
      },
      "source": [
        "# <center> Computational Intelligence Course Homework 1.1 </center>\n",
        "# <center> Homework 1.1 : Linear Regression</center>"
      ]
    },
    {
      "cell_type": "markdown",
      "metadata": {
        "id": "D707JIDYrOMr",
        "colab_type": "text"
      },
      "source": [
        "In this exercise, you will implement linear regression and get to see it work on data. <br>\n",
        "Before we begin with the exercises, we need to import all libraries required for this programming exercise. Throughout the course, we will be using numpy for all arrays and matrix operations, and matplotlib for plotting."
      ]
    },
    {
      "cell_type": "code",
      "metadata": {
        "id": "JsuSLXvErOMu",
        "colab_type": "code",
        "colab": {}
      },
      "source": [
        "import numpy as np\n",
        "import pandas as pd\n",
        "import matplotlib.pyplot as plt"
      ],
      "execution_count": 0,
      "outputs": []
    },
    {
      "cell_type": "markdown",
      "metadata": {
        "id": "mGtNssghrOOL",
        "colab_type": "text"
      },
      "source": [
        "## Part 1: Univariable Linear Regression"
      ]
    },
    {
      "cell_type": "markdown",
      "metadata": {
        "id": "LGyf6TEDrOOX",
        "colab_type": "text"
      },
      "source": [
        "Now you will implement linear regression with one variable to predict profits for a food truck. Suppose you are the CEO of a restaurant franchise and are considering different cities for opening a new outlet. The chain already has trucks in various cities and you have data for profits and populations from the cities. You would like to use this data to help you select which city to expand to next.\n",
        "\n",
        "The file ex1data1.txt contains the dataset for our linear regression problem. The first column is the population of a city (in 10,000s) and the second column is the profit of a food truck in that city (in $10,000s). A negative value for profit indicates a loss."
      ]
    },
    {
      "cell_type": "markdown",
      "metadata": {
        "id": "HoQojchorOOe",
        "colab_type": "text"
      },
      "source": [
        "### 1.2. Loading the Data"
      ]
    },
    {
      "cell_type": "code",
      "metadata": {
        "id": "YWsrMvEJrOOh",
        "colab_type": "code",
        "colab": {
          "base_uri": "https://localhost:8080/",
          "height": 204
        },
        "outputId": "8c611db5-3411-4c72-c33f-9e8e253019d1"
      },
      "source": [
        "data = pd.read_csv(\"ex1data1.txt\", header=None)\n",
        "data.head()"
      ],
      "execution_count": 3,
      "outputs": [
        {
          "output_type": "execute_result",
          "data": {
            "text/html": [
              "<div>\n",
              "<style scoped>\n",
              "    .dataframe tbody tr th:only-of-type {\n",
              "        vertical-align: middle;\n",
              "    }\n",
              "\n",
              "    .dataframe tbody tr th {\n",
              "        vertical-align: top;\n",
              "    }\n",
              "\n",
              "    .dataframe thead th {\n",
              "        text-align: right;\n",
              "    }\n",
              "</style>\n",
              "<table border=\"1\" class=\"dataframe\">\n",
              "  <thead>\n",
              "    <tr style=\"text-align: right;\">\n",
              "      <th></th>\n",
              "      <th>0</th>\n",
              "      <th>1</th>\n",
              "    </tr>\n",
              "  </thead>\n",
              "  <tbody>\n",
              "    <tr>\n",
              "      <th>0</th>\n",
              "      <td>6.1101</td>\n",
              "      <td>17.5920</td>\n",
              "    </tr>\n",
              "    <tr>\n",
              "      <th>1</th>\n",
              "      <td>5.5277</td>\n",
              "      <td>9.1302</td>\n",
              "    </tr>\n",
              "    <tr>\n",
              "      <th>2</th>\n",
              "      <td>8.5186</td>\n",
              "      <td>13.6620</td>\n",
              "    </tr>\n",
              "    <tr>\n",
              "      <th>3</th>\n",
              "      <td>7.0032</td>\n",
              "      <td>11.8540</td>\n",
              "    </tr>\n",
              "    <tr>\n",
              "      <th>4</th>\n",
              "      <td>5.8598</td>\n",
              "      <td>6.8233</td>\n",
              "    </tr>\n",
              "  </tbody>\n",
              "</table>\n",
              "</div>"
            ],
            "text/plain": [
              "        0        1\n",
              "0  6.1101  17.5920\n",
              "1  5.5277   9.1302\n",
              "2  8.5186  13.6620\n",
              "3  7.0032  11.8540\n",
              "4  5.8598   6.8233"
            ]
          },
          "metadata": {
            "tags": []
          },
          "execution_count": 3
        }
      ]
    },
    {
      "cell_type": "markdown",
      "metadata": {
        "id": "v03zSGFdrOO5",
        "colab_type": "text"
      },
      "source": [
        "### 1.3. Plotting the Data\n",
        "Before starting on any task, it is often useful to understand the data by visualizing it."
      ]
    },
    {
      "cell_type": "code",
      "metadata": {
        "id": "929So8kurOQR",
        "colab_type": "code",
        "colab": {
          "base_uri": "https://localhost:8080/",
          "height": 312
        },
        "outputId": "899b621a-c04b-4828-f14a-b7c296459596"
      },
      "source": [
        "plt.scatter(data[0], data[1])\n",
        "plt.xticks(np.arange(5,30, step=5))\n",
        "plt.yticks(np.arange(-5,30, step=5))\n",
        "plt.xlabel(\"Population of City (10,000s)\")\n",
        "plt.ylabel(\"Profit ($10,000)\")\n",
        "plt.title(\"Profit Prediction\")"
      ],
      "execution_count": 4,
      "outputs": [
        {
          "output_type": "execute_result",
          "data": {
            "text/plain": [
              "Text(0.5, 1.0, 'Profit Prediction')"
            ]
          },
          "metadata": {
            "tags": []
          },
          "execution_count": 4
        },
        {
          "output_type": "display_data",
          "data": {
            "image/png": "[encoded data removed]",
            "text/plain": [
              "<Figure size 432x288 with 1 Axes>"
            ]
          },
          "metadata": {
            "tags": []
          }
        }
      ]
    },
    {
      "cell_type": "markdown",
      "metadata": {
        "id": "eW4kYyCvrOQf",
        "colab_type": "text"
      },
      "source": [
        "### 1.4. Cost and Gradient Descent"
      ]
    },
    {
      "cell_type": "markdown",
      "metadata": {
        "id": "o0K1uVA5rOQh",
        "colab_type": "text"
      },
      "source": [
        "he objective of linear regression is to minimize the cost function: \n",
        "$$J(\\Theta) = \\frac{1}{2m} \\sum_{i=1}^m (h_\\Theta(x^{(i)}) - y^{(i)} )^2$$\n",
        "\n",
        "where the hypothesis $h_\\Theta(x)$ is given by the linear model:\n",
        "$$h_\\Theta(x) = \\Theta^Tx$$"
      ]
    },
    {
      "cell_type": "code",
      "metadata": {
        "id": "qMFgnkU5rOQj",
        "colab_type": "code",
        "colab": {}
      },
      "source": [
        "def computeCost(X,y,theta):\n",
        "    \"\"\"\n",
        "    Take in a numpy array X,y, theta and generate the cost function of using theta as parameter\n",
        "    in a linear regression model\n",
        "    \"\"\"\n",
        "    m = len(y)  # number of training examples\n",
        "    J = 0       # cost function\n",
        "    \n",
        "    # ====================== YOUR CODE HERE ======================\n",
        "\n",
        "    h = np.dot(X, theta)\n",
        "    J = np.sum((h - y) ** 2) / (2 * m)\n",
        "\n",
        "    # ============================================================\n",
        "\n",
        "    return J"
      ],
      "execution_count": 0,
      "outputs": []
    },
    {
      "cell_type": "code",
      "metadata": {
        "id": "MTjfiTGWrOQw",
        "colab_type": "code",
        "colab": {
          "base_uri": "https://localhost:8080/",
          "height": 34
        },
        "outputId": "9745b2d8-b6a1-4abc-f4ba-6ab9b5e836db"
      },
      "source": [
        "data_n = data.values\n",
        "m = data_n[:,0].size\n",
        "X = np.append(np.ones((m,1)), data_n[:,0].reshape(m,1), axis=1)\n",
        "y = data_n[:,1].reshape(m,1)\n",
        "theta = np.zeros((2,1))\n",
        "\n",
        "J = computeCost(X,y, theta)\n",
        "print('cost value = ' + str(J));"
      ],
      "execution_count": 20,
      "outputs": [
        {
          "output_type": "stream",
          "text": [
            "cost value = 32.072733877455676\n"
          ],
          "name": "stdout"
        }
      ]
    },
    {
      "cell_type": "markdown",
      "metadata": {
        "id": "pH9SWvohrOQ-",
        "colab_type": "text"
      },
      "source": [
        "**Expected Output**: \n",
        "\n",
        "<table style=\"width:20%\">\n",
        "  <tr>\n",
        "    <td>**cost value**</td>\n",
        "    <td> 32.07</td> \n",
        "  </tr>\n",
        "</table>"
      ]
    },
    {
      "cell_type": "code",
      "metadata": {
        "id": "F15Erm2HrORB",
        "colab_type": "code",
        "colab": {
          "base_uri": "https://localhost:8080/",
          "height": 34
        },
        "outputId": "d3fe8186-6275-4e1d-85bf-df188ad0dc53"
      },
      "source": [
        "# further testing of the cost function\n",
        "\n",
        "theta_1 = np.array([-1, 2]).reshape((2,1))\n",
        "J = computeCost(X, y, theta_1);\n",
        "print('cost value = ' + str(J));"
      ],
      "execution_count": 21,
      "outputs": [
        {
          "output_type": "stream",
          "text": [
            "cost value = 54.24245508201238\n"
          ],
          "name": "stdout"
        }
      ]
    },
    {
      "cell_type": "markdown",
      "metadata": {
        "id": "Qe6Og_BKrORS",
        "colab_type": "text"
      },
      "source": [
        "**Expected Output**: \n",
        "\n",
        "<table style=\"width:20%\">\n",
        "  <tr>\n",
        "    <td>**cost value**</td>\n",
        "    <td>54.24</td> \n",
        "  </tr>\n",
        "</table>"
      ]
    },
    {
      "cell_type": "markdown",
      "metadata": {
        "id": "2y9M08jBrORT",
        "colab_type": "text"
      },
      "source": [
        "### 1.5. Gradient Descent\n",
        "\n",
        "Minimize the cost function $J(\\Theta)$ by updating the following equation and repeat unitil convergence:\n",
        "        \n",
        "$$\\Theta_j := \\Theta_j - \\alpha \\frac{1}{m} \\sum_{i=1}^m (h_{\\Theta}(x^{(i)}) - y^{(i)})x_j^{(i)}$$ simultaneously update $\\Theta_j$ for all $j$.\n",
        "\n",
        "With each step of gradient descent, your parameters $\\theta_j$ come closer to the optimal values that will achieve the lowest cost J($\\theta$). <br><br>\n",
        "As you perform gradient descent to learn minimize the cost function $J(\\theta)$, it is helpful to monitor the convergence by computing the cost. In this section, you will implement a function to calculate $J(\\theta)$ so you can check the convergence of your gradient descent implementation."
      ]
    },
    {
      "cell_type": "code",
      "metadata": {
        "id": "MWxJaj_irORV",
        "colab_type": "code",
        "colab": {}
      },
      "source": [
        "def gradientDescent(X,y,theta,alpha,num_iters):\n",
        "    \"\"\"\n",
        "    Take in numpy array X, y and theta and update theta by taking num_iters gradient steps\n",
        "    with learning rate of alpha\n",
        "    \n",
        "    return theta and the list of the cost of theta during each iteration\n",
        "    \"\"\"\n",
        "    \n",
        "    m = len(y)\n",
        "    J_history = []\n",
        "    \n",
        "    for i in range(num_iters):\n",
        "\n",
        "        # ====================== YOUR CODE HERE ======================\n",
        "\n",
        "        J = computeCost(X, y, theta)\n",
        "        J_history.append(J)\n",
        "\n",
        "        h = np.dot(X, theta)\n",
        "        theta = theta - (alpha / m) * np.sum(np.multiply(h - y, X), axis=0).reshape(theta.shape)\n",
        "\n",
        "        # ============================================================\n",
        "        \n",
        "    return theta, J_history"
      ],
      "execution_count": 0,
      "outputs": []
    },
    {
      "cell_type": "code",
      "metadata": {
        "id": "Boyt5nMSrORp",
        "colab_type": "code",
        "colab": {
          "base_uri": "https://localhost:8080/",
          "height": 85
        },
        "outputId": "de06507b-6f0d-4325-d393-40faec0cce3e"
      },
      "source": [
        "theta, J_history = gradientDescent(X, y, theta, 0.01, 1500)\n",
        "print(\"h(x) = \"+str(round(theta[0,0],2))+\" + \"+str(round(theta[1,0],2))+\"x1\\n\")\n",
        "print('theta = ' + str(theta))"
      ],
      "execution_count": 31,
      "outputs": [
        {
          "output_type": "stream",
          "text": [
            "h(x) = -3.63 + 1.17x1\n",
            "\n",
            "theta = [[-3.63029144]\n",
            " [ 1.16636235]]\n"
          ],
          "name": "stdout"
        }
      ]
    },
    {
      "cell_type": "markdown",
      "metadata": {
        "id": "I33CMPfJrOR1",
        "colab_type": "text"
      },
      "source": [
        "**Expected Output**: \n",
        "\n",
        "<table style=\"width:20%\">\n",
        "  <tr>\n",
        "    <td>**theta**</td>\n",
        "    <td> [[-3.6303][1.1664]] </td>\n",
        "    </tr>\n",
        "</table>"
      ]
    },
    {
      "cell_type": "markdown",
      "metadata": {
        "id": "_KVGBi9grOR3",
        "colab_type": "text"
      },
      "source": [
        "### 1.6. Visualising the Cost Function $J(\\Theta)$\n",
        "\n",
        "To understand the cost function $J(\\theta)$ better, you will now plot the cost over a 2-dimensional grid of $\\theta_0$ and $\\theta_1$ values. You will not need to code anything new for this part, but you should understand how the code you have written already is creating these images.<br>\n",
        "The cost function $J(\\theta)$ is bowl-shaped and has a global minimum.\n"
      ]
    },
    {
      "cell_type": "code",
      "metadata": {
        "id": "JTkT2vgjrOR7",
        "colab_type": "code",
        "colab": {}
      },
      "source": [
        "#Generating values for theta0, theta1 and the resulting cost value\n",
        "theta0_vals=np.linspace(-10,10,100)\n",
        "theta1_vals=np.linspace(-1,4,100)\n",
        "J_vals=np.zeros((len(theta0_vals),len(theta1_vals)))\n",
        "\n",
        "for i in range(len(theta0_vals)):\n",
        "    for j in range(len(theta1_vals)):\n",
        "        t=np.array([theta0_vals[i],theta1_vals[j]])\n",
        "        J_vals[i,j]=computeCost(X,y,t)"
      ],
      "execution_count": 0,
      "outputs": []
    },
    {
      "cell_type": "code",
      "metadata": {
        "id": "TkvrdMAurOSI",
        "colab_type": "code",
        "colab": {
          "base_uri": "https://localhost:8080/",
          "height": 248
        },
        "outputId": "e706fc49-915e-4571-ca33-611cb1f48dcc"
      },
      "source": [
        "#Generating the surface plot\n",
        "fig = plt.figure()\n",
        "ax = fig.add_subplot(111, projection='3d')\n",
        "surf = ax.plot_surface(theta0_vals, theta1_vals, J_vals, cmap='viridis')\n",
        "fig.colorbar(surf, shrink=0.5, aspect=5)\n",
        "ax.set_xlabel(\"$\\Theta_0$\")\n",
        "ax.set_ylabel(\"$\\Theta_1$\")\n",
        "ax.set_zlabel(\"$J(\\Theta)$\")\n",
        "\n",
        "#rotate for better angle\n",
        "ax.view_init(30,35)"
      ],
      "execution_count": 36,
      "outputs": [
        {
          "output_type": "display_data",
          "data": {
            "image/png": "[encoded data removed]",
            "text/plain": [
              "<Figure size 432x288 with 2 Axes>"
            ]
          },
          "metadata": {
            "tags": []
          }
        }
      ]
    },
    {
      "cell_type": "markdown",
      "metadata": {
        "id": "X4rZly3FrOSU",
        "colab_type": "text"
      },
      "source": [
        "### 1.7. Testing the implementation\n",
        "\n",
        "Plot $J(\\Theta)$ against the number of iteration "
      ]
    },
    {
      "cell_type": "code",
      "metadata": {
        "id": "uONEbDLlrOSW",
        "colab_type": "code",
        "colab": {
          "base_uri": "https://localhost:8080/",
          "height": 312
        },
        "outputId": "13cb9c2a-c7c9-4fbb-904f-6e57066032be"
      },
      "source": [
        "plt.plot(J_history)\n",
        "plt.xlabel(\"Iteration\")\n",
        "plt.ylabel(\"$J(\\Theta)$\")\n",
        "plt.title(\"Cost function using Gradient Descent\")"
      ],
      "execution_count": 37,
      "outputs": [
        {
          "output_type": "execute_result",
          "data": {
            "text/plain": [
              "Text(0.5, 1.0, 'Cost function using Gradient Descent')"
            ]
          },
          "metadata": {
            "tags": []
          },
          "execution_count": 37
        },
        {
          "output_type": "display_data",
          "data": {
            "image/png": "[encoded data removed]",
            "text/plain": [
              "<Figure size 432x288 with 1 Axes>"
            ]
          },
          "metadata": {
            "tags": []
          }
        }
      ]
    },
    {
      "cell_type": "markdown",
      "metadata": {
        "id": "9clxCTDcrOSg",
        "colab_type": "text"
      },
      "source": [
        "### 1.8. Plot the linear fit"
      ]
    },
    {
      "cell_type": "code",
      "metadata": {
        "id": "7-CXvtnyrOSk",
        "colab_type": "code",
        "colab": {
          "base_uri": "https://localhost:8080/",
          "height": 312
        },
        "outputId": "a6cdd4c7-88fd-4aec-a312-9a032da4bd44"
      },
      "source": [
        "plt.scatter(data[0],data[1])\n",
        "x_value=[x for x in range(25)]\n",
        "y_value=[y*theta[1]+theta[0] for y in x_value]\n",
        "plt.plot(x_value,y_value,color=\"r\")\n",
        "plt.xticks(np.arange(5,30,step=5))\n",
        "plt.yticks(np.arange(-5,30,step=5))\n",
        "plt.xlabel(\"Population of City (10,000s)\")\n",
        "plt.ylabel(\"Profit ($10,000\")\n",
        "plt.title(\"Profit Prediction\")"
      ],
      "execution_count": 38,
      "outputs": [
        {
          "output_type": "execute_result",
          "data": {
            "text/plain": [
              "Text(0.5, 1.0, 'Profit Prediction')"
            ]
          },
          "metadata": {
            "tags": []
          },
          "execution_count": 38
        },
        {
          "output_type": "display_data",
          "data": {
            "image/png": "[encoded data removed]",
            "text/plain": [
              "<Figure size 432x288 with 1 Axes>"
            ]
          },
          "metadata": {
            "tags": []
          }
        }
      ]
    },
    {
      "cell_type": "markdown",
      "metadata": {
        "id": "VEze7NdarOSv",
        "colab_type": "text"
      },
      "source": [
        "### 1.9. Make predictions using the optimized $\\Theta$ values\n",
        "\n",
        "Your final values for $\\Theta$ will also be used to make predictions on profits in areas of 35,000 and 70,000 people:<br>\n",
        "$$h_\\Theta(x) = \\Theta^Tx$$"
      ]
    },
    {
      "cell_type": "code",
      "metadata": {
        "id": "93V5CEOnrOSx",
        "colab_type": "code",
        "colab": {}
      },
      "source": [
        "def predict(x, theta):\n",
        "    \"\"\"\n",
        "    Takes in numpy array of x and theta and return the predicted value of y based on theta\n",
        "    \"\"\"\n",
        "    \n",
        "    predictions = np.dot(theta.transpose(),x)\n",
        "    \n",
        "    return predictions[0]"
      ],
      "execution_count": 0,
      "outputs": []
    },
    {
      "cell_type": "code",
      "metadata": {
        "id": "hb0wkQgTrOS5",
        "colab_type": "code",
        "colab": {
          "base_uri": "https://localhost:8080/",
          "height": 51
        },
        "outputId": "2f8082f7-2861-431b-86be-0ed4cccfae72"
      },
      "source": [
        "predict1 = predict(np.array([1,3.5]), theta) * 10000\n",
        "print(\"For population = 35,000, we predict a profit of $\" + str(round(predict1, 0)))\n",
        "\n",
        "predict2 = predict(np.array([1,7]),theta)*10000\n",
        "print(\"For population = 70,000, we predict a profit of $\" + str(round(predict2, 0)))"
      ],
      "execution_count": 41,
      "outputs": [
        {
          "output_type": "stream",
          "text": [
            "For population = 35,000, we predict a profit of $4520.0\n",
            "For population = 70,000, we predict a profit of $45342.0\n"
          ],
          "name": "stdout"
        }
      ]
    },
    {
      "cell_type": "markdown",
      "metadata": {
        "id": "sjiB_FjurOTG",
        "colab_type": "text"
      },
      "source": [
        "## Part 2: Multivariable Linear Regression\n",
        "In this part, you will implement linear regression with multiple variables to predict the prices of houses. Suppose you are selling your house and you want to know what a good market price would be. One way to do this is to first collect information on recent houses sold and make a model of housing prices."
      ]
    },
    {
      "cell_type": "markdown",
      "metadata": {
        "id": "bo9iMtiprOTJ",
        "colab_type": "text"
      },
      "source": [
        "### 2.1. Loading the Data\n",
        "The file ex1data2.txt contains a training set of housing prices in Portland, Oregon. The first column is the size of the house (in square feet), the second column is the number of bedrooms, and the third column is the price of the house."
      ]
    },
    {
      "cell_type": "code",
      "metadata": {
        "id": "wnuyzzJdrOTO",
        "colab_type": "code",
        "colab": {
          "base_uri": "https://localhost:8080/",
          "height": 204
        },
        "outputId": "5ccbf5df-ff2e-4100-ef54-2c3d99ea9eb3"
      },
      "source": [
        "data2=pd.read_csv(\"ex1data2.txt\", header=None)\n",
        "data2.head()"
      ],
      "execution_count": 42,
      "outputs": [
        {
          "output_type": "execute_result",
          "data": {
            "text/html": [
              "<div>\n",
              "<style scoped>\n",
              "    .dataframe tbody tr th:only-of-type {\n",
              "        vertical-align: middle;\n",
              "    }\n",
              "\n",
              "    .dataframe tbody tr th {\n",
              "        vertical-align: top;\n",
              "    }\n",
              "\n",
              "    .dataframe thead th {\n",
              "        text-align: right;\n",
              "    }\n",
              "</style>\n",
              "<table border=\"1\" class=\"dataframe\">\n",
              "  <thead>\n",
              "    <tr style=\"text-align: right;\">\n",
              "      <th></th>\n",
              "      <th>0</th>\n",
              "      <th>1</th>\n",
              "      <th>2</th>\n",
              "    </tr>\n",
              "  </thead>\n",
              "  <tbody>\n",
              "    <tr>\n",
              "      <th>0</th>\n",
              "      <td>2104</td>\n",
              "      <td>3</td>\n",
              "      <td>399900</td>\n",
              "    </tr>\n",
              "    <tr>\n",
              "      <th>1</th>\n",
              "      <td>1600</td>\n",
              "      <td>3</td>\n",
              "      <td>329900</td>\n",
              "    </tr>\n",
              "    <tr>\n",
              "      <th>2</th>\n",
              "      <td>2400</td>\n",
              "      <td>3</td>\n",
              "      <td>369000</td>\n",
              "    </tr>\n",
              "    <tr>\n",
              "      <th>3</th>\n",
              "      <td>1416</td>\n",
              "      <td>2</td>\n",
              "      <td>232000</td>\n",
              "    </tr>\n",
              "    <tr>\n",
              "      <th>4</th>\n",
              "      <td>3000</td>\n",
              "      <td>4</td>\n",
              "      <td>539900</td>\n",
              "    </tr>\n",
              "  </tbody>\n",
              "</table>\n",
              "</div>"
            ],
            "text/plain": [
              "      0  1       2\n",
              "0  2104  3  399900\n",
              "1  1600  3  329900\n",
              "2  2400  3  369000\n",
              "3  1416  2  232000\n",
              "4  3000  4  539900"
            ]
          },
          "metadata": {
            "tags": []
          },
          "execution_count": 42
        }
      ]
    },
    {
      "cell_type": "markdown",
      "metadata": {
        "id": "vyvT3ehJrOTo",
        "colab_type": "text"
      },
      "source": [
        "### 2.2. Plotting the Data"
      ]
    },
    {
      "cell_type": "code",
      "metadata": {
        "id": "zruIqxG8rOTr",
        "colab_type": "code",
        "colab": {
          "base_uri": "https://localhost:8080/",
          "height": 297
        },
        "outputId": "5e12b095-e285-4a94-cd3e-407c003e3ae9"
      },
      "source": [
        "# Create 2 subplot, 1 for each variable\n",
        "fig, axes = plt.subplots(figsize=(12,4),nrows=1,ncols=2)\n",
        "\n",
        "axes[0].scatter(data2[0],data2[2],color=\"b\")\n",
        "axes[0].set_xlabel(\"Size (Square Feet)\")\n",
        "axes[0].set_ylabel(\"Prices\")\n",
        "axes[0].set_title(\"House prices against size of house\")\n",
        "axes[1].scatter(data2[1],data2[2],color=\"r\")\n",
        "axes[1].set_xlabel(\"Number of bedroom\")\n",
        "axes[1].set_ylabel(\"Prices\")\n",
        "axes[1].set_xticks(np.arange(1,6,step=1))\n",
        "axes[1].set_title(\"House prices against number of bedroom\")\n",
        "\n",
        "# Enhance layout\n",
        "plt.tight_layout()"
      ],
      "execution_count": 43,
      "outputs": [
        {
          "output_type": "display_data",
          "data": {
            "image/png": "[encoded data removed]",
            "text/plain": [
              "<Figure size 864x288 with 2 Axes>"
            ]
          },
          "metadata": {
            "tags": []
          }
        }
      ]
    },
    {
      "cell_type": "markdown",
      "metadata": {
        "id": "yaPqA-zlrOT7",
        "colab_type": "text"
      },
      "source": [
        "### 2.3. Feature Normalization\n",
        "\n",
        "By looking at the data values, note that house sizes are about 1000 times the number of bedrooms. When features differ by orders of magnitude, first performing feature scaling can make gradient descent converge much more quickly.\n",
        "\n",
        "To make sure features are on a similar scale:\n",
        "\n",
        "$$x_i = \\frac{x_i - \\mu_i}{\\sigma_i}$$"
      ]
    },
    {
      "cell_type": "code",
      "metadata": {
        "id": "LCo6qYmzrOT9",
        "colab_type": "code",
        "colab": {}
      },
      "source": [
        "def featureNormalization(X):\n",
        "    \"\"\"\n",
        "    Take in numpy array of X values and return normalize X values,\n",
        "    the mean and standard deviation of each feature\n",
        "    \"\"\"\n",
        "    # ====================== YOUR CODE HERE ======================\n",
        "\n",
        "    mean = np.mean(X, axis=0)\n",
        "    std = np.std(X, axis=0)\n",
        "\n",
        "    X_norm = (X - mean) / std\n",
        "\n",
        "    # ============================================================\n",
        "    \n",
        "    return X_norm , mean , std"
      ],
      "execution_count": 0,
      "outputs": []
    },
    {
      "cell_type": "code",
      "metadata": {
        "id": "PQY8_KimrOUH",
        "colab_type": "code",
        "colab": {}
      },
      "source": [
        "data_n2 = data2.values\n",
        "m2 = len(data_n2[:,-1])\n",
        "X2 = data_n2[:,0:2].reshape(m2,2)\n",
        "X2, mean_X2, std_X2 = featureNormalization(X2)\n",
        "X2 = np.append(np.ones((m2,1)),X2,axis=1)\n",
        "y2 = data_n2[:,-1].reshape(m2,1 )\n",
        "theta2 = np.zeros((3,1))"
      ],
      "execution_count": 0,
      "outputs": []
    },
    {
      "cell_type": "markdown",
      "metadata": {
        "id": "rOMFVvpGrOUQ",
        "colab_type": "text"
      },
      "source": [
        "### 2.4. Compute Cost $J(\\Theta)$\n",
        "Previously, you implemented gradient descent on a univariate regression problem. The only difference now is that there is one more feature in the matrix $X$. The hypothesis function and the batch gradient descent update rule remain unchanged.\n",
        "\n",
        "In the multivariate case, the cost function can also be written in the following vectorized form:\n",
        "\n",
        "$$J(\\Theta) = \\frac{1}{2m} (X\\Theta - \\overrightarrow{y})^T (X\\Theta - \\overrightarrow{y})$$\n",
        "\n",
        "\n",
        "Your code in the previous part (single variable) should supports multiple variables, so can use it here too."
      ]
    },
    {
      "cell_type": "code",
      "metadata": {
        "id": "zCAMQiYprOUR",
        "colab_type": "code",
        "colab": {
          "base_uri": "https://localhost:8080/",
          "height": 34
        },
        "outputId": "2b3c1708-7ae2-4347-8c01-13789ddbf457"
      },
      "source": [
        "J = computeCost(X2,y2,theta2)\n",
        "print('cost value = ' + str(J));"
      ],
      "execution_count": 50,
      "outputs": [
        {
          "output_type": "stream",
          "text": [
            "cost value = 65591548106.45744\n"
          ],
          "name": "stdout"
        }
      ]
    },
    {
      "cell_type": "markdown",
      "metadata": {
        "id": "YppNkzLCrOUa",
        "colab_type": "text"
      },
      "source": [
        "**Expected Output**: \n",
        "\n",
        "<table style=\"width:20%\">\n",
        "  <tr>\n",
        "    <td>**cost value**</td>\n",
        "    <td>65591548106.46</td> \n",
        "  </tr>\n",
        "</table>"
      ]
    },
    {
      "cell_type": "markdown",
      "metadata": {
        "id": "-3SFpi9GrOUc",
        "colab_type": "text"
      },
      "source": [
        "### 2.5. Gradient Descent"
      ]
    },
    {
      "cell_type": "code",
      "metadata": {
        "id": "tIgSpzjqrOUd",
        "colab_type": "code",
        "colab": {
          "base_uri": "https://localhost:8080/",
          "height": 102
        },
        "outputId": "4b95c290-4397-4fda-fff9-482cc86db267"
      },
      "source": [
        "theta2, J_history2 = gradientDescent(X2,y2,theta2,0.1,400)\n",
        "print(\"h(x) = \"+str(round(theta2[0,0],2))+\" + \"+str(round(theta2[1,0],2))+\"x1 + \"+str(round(theta2[2,0],2))+\"x2\\n\")\n",
        "print('theta = ' + str(theta2))"
      ],
      "execution_count": 51,
      "outputs": [
        {
          "output_type": "stream",
          "text": [
            "h(x) = 340412.66 + 109447.8x1 + -6578.35x2\n",
            "\n",
            "theta = [[340412.65957447]\n",
            " [109447.79558639]\n",
            " [ -6578.3539709 ]]\n"
          ],
          "name": "stdout"
        }
      ]
    },
    {
      "cell_type": "markdown",
      "metadata": {
        "id": "ce0gVcTIrOUw",
        "colab_type": "text"
      },
      "source": [
        "**Expected Output**: \n",
        "\n",
        "<table style=\"width:20%\">\n",
        "  <tr>\n",
        "    <td>**theta**</td>\n",
        "    <td> [[340412.66][109447.8][-6578.35]] </td>\n",
        "    </tr>\n",
        "</table>"
      ]
    },
    {
      "cell_type": "markdown",
      "metadata": {
        "id": "a202x3VTrOUy",
        "colab_type": "text"
      },
      "source": [
        "### 2.6. Visualising the Cost Function $J(\\Theta)$"
      ]
    },
    {
      "cell_type": "code",
      "metadata": {
        "id": "AWfB-1LHrOU1",
        "colab_type": "code",
        "colab": {
          "base_uri": "https://localhost:8080/",
          "height": 312
        },
        "outputId": "8f543e2d-8e8f-4166-abcb-8eda6d938d95"
      },
      "source": [
        "plt.plot(J_history2)\n",
        "plt.xlabel(\"Iteration\")\n",
        "plt.ylabel(\"$J(\\Theta)$\")\n",
        "plt.title(\"Cost function using Gradient Descent\")"
      ],
      "execution_count": 52,
      "outputs": [
        {
          "output_type": "execute_result",
          "data": {
            "text/plain": [
              "Text(0.5, 1.0, 'Cost function using Gradient Descent')"
            ]
          },
          "metadata": {
            "tags": []
          },
          "execution_count": 52
        },
        {
          "output_type": "display_data",
          "data": {
            "image/png": "[encoded data removed]",
            "text/plain": [
              "<Figure size 432x288 with 1 Axes>"
            ]
          },
          "metadata": {
            "tags": []
          }
        }
      ]
    },
    {
      "cell_type": "markdown",
      "metadata": {
        "id": "1yhYxTGBrOVE",
        "colab_type": "text"
      },
      "source": [
        "### 2.7. Make predictions using the optimized $\\Theta$ values\n",
        "Next, use this value of $\\theta$ to predict the price of a house with 1650 square feet and 3 bedrooms:"
      ]
    },
    {
      "cell_type": "code",
      "metadata": {
        "id": "tCNfVn96rOVF",
        "colab_type": "code",
        "colab": {
          "base_uri": "https://localhost:8080/",
          "height": 34
        },
        "outputId": "331e667e-631b-4118-ad1f-8e51dbf944e6"
      },
      "source": [
        "price = 0; # You should change this\n",
        "\n",
        "# ====================== YOUR CODE HERE ======================\n",
        "\n",
        "input_samples = np.array([[1650, 3]])\n",
        "input_samples = (input_samples - mean_X2) / std_X2\n",
        "input_samples_with_bias = np.concatenate([np.ones((1, 1)), input_samples], axis=1)\n",
        "price = np.dot(input_samples_with_bias, theta2)\n",
        "price = price.item()\n",
        "\n",
        "# ============================================================\n",
        "    \n",
        "print(\"For size of house = 1650, Number of bedroom = 3, we predict a house value of $\"+str(round(price,0)))"
      ],
      "execution_count": 59,
      "outputs": [
        {
          "output_type": "stream",
          "text": [
            "For size of house = 1650, Number of bedroom = 3, we predict a house value of $293081.0\n"
          ],
          "name": "stdout"
        }
      ]
    },
    {
      "cell_type": "markdown",
      "metadata": {
        "id": "e-veBhI4rOVM",
        "colab_type": "text"
      },
      "source": [
        "**Expected Output**: \n",
        "\n",
        "<table style=\"width:20%\">\n",
        "  <tr>\n",
        "    <td>**price**</td>\n",
        "    <td> $293081.0 </td>\n",
        "    </tr>\n",
        "</table>"
      ]
    }
  ]
}